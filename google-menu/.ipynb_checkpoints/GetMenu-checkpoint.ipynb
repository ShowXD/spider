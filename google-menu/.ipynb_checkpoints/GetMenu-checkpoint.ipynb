{
 "cells": [
  {
   "cell_type": "code",
   "execution_count": null,
   "metadata": {},
   "outputs": [],
   "source": [
    "from selenium import webdriver\n",
    "from selenium.webdriver.chrome.options import Options\n",
    "from bs4 import BeautifulSoup\n",
    "\n",
    "import time\n",
    "import pandas as pd\n",
    "import urllib.request\n",
    "import os\n",
    "import random"
   ]
  },
  {
   "cell_type": "code",
   "execution_count": null,
   "metadata": {},
   "outputs": [],
   "source": [
    "storeName = input(\"請輸入店家名稱:\")"
   ]
  },
  {
   "cell_type": "code",
   "execution_count": null,
   "metadata": {},
   "outputs": [],
   "source": [
    "options = Options()\n",
    "options.add_argument(\"--headless\") # 不開啟實體瀏覽器背景執行\n",
    "options.add_argument(\"--incognito\") # 開啟無痕模式\n",
    "options.add_argument('window-size=1920x1080')\n",
    "\n",
    "driver = webdriver.Chrome('../tools/chromedriver', options=options) # 如果你沒有把webdriver放在同一個資料夾中，必須指定位置給他\n",
    "driver.get(\"https://www.google.com/maps/search/\" + storeName)"
   ]
  },
  {
   "cell_type": "code",
   "execution_count": null,
   "metadata": {},
   "outputs": [],
   "source": [
    "def tryclick(driver, selector, count=0): ##保護機制，以防無法定位到還沒渲染出來的元素\n",
    "    try:\n",
    "        elem = driver.find_element_by_css_selector(selector)\n",
    "        elem.click() # 點擊定位到的元素\n",
    "    except:\n",
    "        time.sleep(2)\n",
    "        count+=1\n",
    "        if(count <2):\n",
    "            tryclick(driver, selector,count)\n",
    "        else:\n",
    "            print(\"cannot locate element\" + selector)\n",
    "            \n",
    "tryclick(driver, \"#card-label-菜單\") # 點擊「相片」按鍵\n",
    "time.sleep(3)\n",
    "\n",
    "soup = BeautifulSoup(driver.page_source, 'html.parser')# 取得 html 文字，轉成 html 格式\n",
    "driver.close()  # 關掉Driver打開的瀏覽器"
   ]
  },
  {
   "cell_type": "code",
   "execution_count": null,
   "metadata": {},
   "outputs": [],
   "source": [
    "album = soup.find_all(\"a\", class_=\"gallery-cell\") # 尋找相片標籤\n",
    "if album:\n",
    "    print(\"Sucess\")\n",
    "else:\n",
    "    print(\"Can't find menu!\")"
   ]
  },
  {
   "cell_type": "code",
   "execution_count": null,
   "metadata": {},
   "outputs": [],
   "source": [
    "count = 0\n",
    "for photo in album:\n",
    "    pos = str(photo).find('https://lh') # 找到網址位置的數值\n",
    "    if pos != -1:\n",
    "        url = str(photo)[pos:pos+81]+\"s2048\"\n",
    "        count += 1\n",
    "        urllib.request.urlretrieve(url, os.path.join(str(random.random()) + \".png\"))\n",
    "        print(url)\n",
    "    pos = 0"
   ]
  }
 ],
 "metadata": {
  "kernelspec": {
   "display_name": "Python 3",
   "language": "python",
   "name": "python3"
  },
  "language_info": {
   "codemirror_mode": {
    "name": "ipython",
    "version": 3
   },
   "file_extension": ".py",
   "mimetype": "text/x-python",
   "name": "python",
   "nbconvert_exporter": "python",
   "pygments_lexer": "ipython3",
   "version": "3.7.7"
  }
 },
 "nbformat": 4,
 "nbformat_minor": 4
}
